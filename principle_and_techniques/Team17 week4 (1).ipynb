{
 "cells": [
  {
   "cell_type": "code",
   "execution_count": 15,
   "metadata": {},
   "outputs": [
    {
     "name": "stdout",
     "output_type": "stream",
     "text": [
      "Collecting gpxcsv\n",
      "  Downloading gpxcsv-0.3.1-py3-none-any.whl.metadata (6.6 kB)\n",
      "Collecting lxml (from gpxcsv)\n",
      "  Downloading lxml-5.3.0-cp312-cp312-macosx_10_9_universal2.whl.metadata (3.8 kB)\n",
      "Downloading gpxcsv-0.3.1-py3-none-any.whl (8.1 kB)\n",
      "Downloading lxml-5.3.0-cp312-cp312-macosx_10_9_universal2.whl (8.2 MB)\n",
      "\u001b[2K   \u001b[90m━━━━━━━━━━━━━━━━━━━━━━━━━━━━━━━━━━━━━━━━\u001b[0m \u001b[32m8.2/8.2 MB\u001b[0m \u001b[31m1.3 MB/s\u001b[0m eta \u001b[36m0:00:00\u001b[0m00:01\u001b[0m00:01\u001b[0m\n",
      "\u001b[?25hInstalling collected packages: lxml, gpxcsv\n",
      "Successfully installed gpxcsv-0.3.1 lxml-5.3.0\n",
      "Note: you may need to restart the kernel to use updated packages.\n"
     ]
    }
   ],
   "source": [
    "pip install gpxcsv"
   ]
  },
  {
   "cell_type": "code",
   "execution_count": 6,
   "metadata": {},
   "outputs": [
    {
     "data": {
      "text/html": [
       "<div>\n",
       "<style scoped>\n",
       "    .dataframe tbody tr th:only-of-type {\n",
       "        vertical-align: middle;\n",
       "    }\n",
       "\n",
       "    .dataframe tbody tr th {\n",
       "        vertical-align: top;\n",
       "    }\n",
       "\n",
       "    .dataframe thead th {\n",
       "        text-align: right;\n",
       "    }\n",
       "</style>\n",
       "<table border=\"1\" class=\"dataframe\">\n",
       "  <thead>\n",
       "    <tr style=\"text-align: right;\">\n",
       "      <th></th>\n",
       "      <th>lat</th>\n",
       "      <th>lon</th>\n",
       "      <th>atemp</th>\n",
       "      <th>hr</th>\n",
       "      <th>cad</th>\n",
       "      <th>name</th>\n",
       "      <th>type</th>\n",
       "      <th>ele</th>\n",
       "      <th>time</th>\n",
       "    </tr>\n",
       "  </thead>\n",
       "  <tbody>\n",
       "    <tr>\n",
       "      <th>0</th>\n",
       "      <td>39.067879</td>\n",
       "      <td>-106.118141</td>\n",
       "      <td>27.0</td>\n",
       "      <td>96.0</td>\n",
       "      <td>57.0</td>\n",
       "      <td>Morning Hike and Fishing along Rich and  Rough...</td>\n",
       "      <td>hiking</td>\n",
       "      <td>3052.2</td>\n",
       "      <td>2024-07-19T15:27:54Z</td>\n",
       "    </tr>\n",
       "    <tr>\n",
       "      <th>1</th>\n",
       "      <td>39.067892</td>\n",
       "      <td>-106.118160</td>\n",
       "      <td>27.0</td>\n",
       "      <td>96.0</td>\n",
       "      <td>57.0</td>\n",
       "      <td>Morning Hike and Fishing along Rich and  Rough...</td>\n",
       "      <td>hiking</td>\n",
       "      <td>3052.2</td>\n",
       "      <td>2024-07-19T15:27:55Z</td>\n",
       "    </tr>\n",
       "    <tr>\n",
       "      <th>2</th>\n",
       "      <td>39.067894</td>\n",
       "      <td>-106.118211</td>\n",
       "      <td>27.0</td>\n",
       "      <td>100.0</td>\n",
       "      <td>57.0</td>\n",
       "      <td>Morning Hike and Fishing along Rich and  Rough...</td>\n",
       "      <td>hiking</td>\n",
       "      <td>3052.4</td>\n",
       "      <td>2024-07-19T15:27:58Z</td>\n",
       "    </tr>\n",
       "    <tr>\n",
       "      <th>3</th>\n",
       "      <td>39.067879</td>\n",
       "      <td>-106.118236</td>\n",
       "      <td>27.0</td>\n",
       "      <td>103.0</td>\n",
       "      <td>0.0</td>\n",
       "      <td>Morning Hike and Fishing along Rich and  Rough...</td>\n",
       "      <td>hiking</td>\n",
       "      <td>3053.0</td>\n",
       "      <td>2024-07-19T15:28:00Z</td>\n",
       "    </tr>\n",
       "    <tr>\n",
       "      <th>4</th>\n",
       "      <td>39.067868</td>\n",
       "      <td>-106.118257</td>\n",
       "      <td>27.0</td>\n",
       "      <td>105.0</td>\n",
       "      <td>54.0</td>\n",
       "      <td>Morning Hike and Fishing along Rich and  Rough...</td>\n",
       "      <td>hiking</td>\n",
       "      <td>3053.2</td>\n",
       "      <td>2024-07-19T15:28:02Z</td>\n",
       "    </tr>\n",
       "    <tr>\n",
       "      <th>...</th>\n",
       "      <td>...</td>\n",
       "      <td>...</td>\n",
       "      <td>...</td>\n",
       "      <td>...</td>\n",
       "      <td>...</td>\n",
       "      <td>...</td>\n",
       "      <td>...</td>\n",
       "      <td>...</td>\n",
       "      <td>...</td>\n",
       "    </tr>\n",
       "    <tr>\n",
       "      <th>4122</th>\n",
       "      <td>39.068033</td>\n",
       "      <td>-106.116381</td>\n",
       "      <td>24.0</td>\n",
       "      <td>93.0</td>\n",
       "      <td>62.0</td>\n",
       "      <td>Morning Hike and Fishing along Rich and  Rough...</td>\n",
       "      <td>hiking</td>\n",
       "      <td>3041.8</td>\n",
       "      <td>2024-07-19T21:05:15Z</td>\n",
       "    </tr>\n",
       "    <tr>\n",
       "      <th>4123</th>\n",
       "      <td>39.068048</td>\n",
       "      <td>-106.116388</td>\n",
       "      <td>24.0</td>\n",
       "      <td>93.0</td>\n",
       "      <td>62.0</td>\n",
       "      <td>Morning Hike and Fishing along Rich and  Rough...</td>\n",
       "      <td>hiking</td>\n",
       "      <td>3041.8</td>\n",
       "      <td>2024-07-19T21:05:16Z</td>\n",
       "    </tr>\n",
       "    <tr>\n",
       "      <th>4124</th>\n",
       "      <td>39.068118</td>\n",
       "      <td>-106.116441</td>\n",
       "      <td>24.0</td>\n",
       "      <td>91.0</td>\n",
       "      <td>0.0</td>\n",
       "      <td>Morning Hike and Fishing along Rich and  Rough...</td>\n",
       "      <td>hiking</td>\n",
       "      <td>3042.4</td>\n",
       "      <td>2024-07-19T21:05:22Z</td>\n",
       "    </tr>\n",
       "    <tr>\n",
       "      <th>4125</th>\n",
       "      <td>39.068151</td>\n",
       "      <td>-106.116471</td>\n",
       "      <td>24.0</td>\n",
       "      <td>94.0</td>\n",
       "      <td>0.0</td>\n",
       "      <td>Morning Hike and Fishing along Rich and  Rough...</td>\n",
       "      <td>hiking</td>\n",
       "      <td>3043.0</td>\n",
       "      <td>2024-07-19T21:05:25Z</td>\n",
       "    </tr>\n",
       "    <tr>\n",
       "      <th>4126</th>\n",
       "      <td>39.068178</td>\n",
       "      <td>-106.116476</td>\n",
       "      <td>24.0</td>\n",
       "      <td>95.0</td>\n",
       "      <td>61.0</td>\n",
       "      <td>Morning Hike and Fishing along Rich and  Rough...</td>\n",
       "      <td>hiking</td>\n",
       "      <td>3043.0</td>\n",
       "      <td>2024-07-19T21:05:27Z</td>\n",
       "    </tr>\n",
       "  </tbody>\n",
       "</table>\n",
       "<p>4127 rows × 9 columns</p>\n",
       "</div>"
      ],
      "text/plain": [
       "            lat         lon  atemp     hr   cad  \\\n",
       "0     39.067879 -106.118141   27.0   96.0  57.0   \n",
       "1     39.067892 -106.118160   27.0   96.0  57.0   \n",
       "2     39.067894 -106.118211   27.0  100.0  57.0   \n",
       "3     39.067879 -106.118236   27.0  103.0   0.0   \n",
       "4     39.067868 -106.118257   27.0  105.0  54.0   \n",
       "...         ...         ...    ...    ...   ...   \n",
       "4122  39.068033 -106.116381   24.0   93.0  62.0   \n",
       "4123  39.068048 -106.116388   24.0   93.0  62.0   \n",
       "4124  39.068118 -106.116441   24.0   91.0   0.0   \n",
       "4125  39.068151 -106.116471   24.0   94.0   0.0   \n",
       "4126  39.068178 -106.116476   24.0   95.0  61.0   \n",
       "\n",
       "                                                   name    type     ele  \\\n",
       "0     Morning Hike and Fishing along Rich and  Rough...  hiking  3052.2   \n",
       "1     Morning Hike and Fishing along Rich and  Rough...  hiking  3052.2   \n",
       "2     Morning Hike and Fishing along Rich and  Rough...  hiking  3052.4   \n",
       "3     Morning Hike and Fishing along Rich and  Rough...  hiking  3053.0   \n",
       "4     Morning Hike and Fishing along Rich and  Rough...  hiking  3053.2   \n",
       "...                                                 ...     ...     ...   \n",
       "4122  Morning Hike and Fishing along Rich and  Rough...  hiking  3041.8   \n",
       "4123  Morning Hike and Fishing along Rich and  Rough...  hiking  3041.8   \n",
       "4124  Morning Hike and Fishing along Rich and  Rough...  hiking  3042.4   \n",
       "4125  Morning Hike and Fishing along Rich and  Rough...  hiking  3043.0   \n",
       "4126  Morning Hike and Fishing along Rich and  Rough...  hiking  3043.0   \n",
       "\n",
       "                      time  \n",
       "0     2024-07-19T15:27:54Z  \n",
       "1     2024-07-19T15:27:55Z  \n",
       "2     2024-07-19T15:27:58Z  \n",
       "3     2024-07-19T15:28:00Z  \n",
       "4     2024-07-19T15:28:02Z  \n",
       "...                    ...  \n",
       "4122  2024-07-19T21:05:15Z  \n",
       "4123  2024-07-19T21:05:16Z  \n",
       "4124  2024-07-19T21:05:22Z  \n",
       "4125  2024-07-19T21:05:25Z  \n",
       "4126  2024-07-19T21:05:27Z  \n",
       "\n",
       "[4127 rows x 9 columns]"
      ]
     },
     "execution_count": 6,
     "metadata": {},
     "output_type": "execute_result"
    }
   ],
   "source": [
    "from gpxcsv import gpxtolist\n",
    "import pandas as pd\n",
    "\n",
    "gpx_list = gpxtolist('/Users/BryanGutierrez/Desktop/Strava/backup/Track-11.gpx')\n",
    "gpx_list\n",
    "# Reads the gpx file and converts it to a list of dictionaries\n",
    "\n",
    "gpx_df = pd.DataFrame(gpx_list)\n",
    "gpx_df \n",
    "# Converts the structured data into a data frame "
   ]
  },
  {
   "cell_type": "code",
   "execution_count": 7,
   "metadata": {},
   "outputs": [
    {
     "data": {
      "text/plain": [
       "pandas._libs.tslibs.timestamps.Timestamp"
      ]
     },
     "execution_count": 7,
     "metadata": {},
     "output_type": "execute_result"
    }
   ],
   "source": [
    "gpx_df['time'] = pd.to_datetime(gpx_df['time'], format = '%Y-%m-%dT%H:%M:%SZ')\n",
    "# Converts the time column to date time objects\n",
    "# gpx_df['time'] accesses the time column\n",
    "# pd.to_datetime() converts a string into datetime\n",
    "# the %Y%M... corresponds to the Year-month-day... format\n",
    "type(gpx_df.loc[0, 'time'])\n",
    "# Uses the .loc method to access the data at index 0"
   ]
  },
  {
   "cell_type": "code",
   "execution_count": 8,
   "metadata": {},
   "outputs": [
    {
     "data": {
      "text/plain": [
       "Timedelta('0 days 05:37:33')"
      ]
     },
     "execution_count": 8,
     "metadata": {},
     "output_type": "execute_result"
    }
   ],
   "source": [
    "duration = gpx_df['time'].iloc[-1] - gpx_df['time'].iloc[0]\n",
    "duration\n",
    "# Calculates the duration of the entire track by subtracting the first \n",
    "# timestamp from the last timestamp"
   ]
  },
  {
   "cell_type": "code",
   "execution_count": 56,
   "metadata": {},
   "outputs": [
    {
     "name": "stdout",
     "output_type": "stream",
     "text": [
      "5.0 hours 37.0 min 33.0 sec \n"
     ]
    }
   ],
   "source": [
    "total_duration = duration.total_seconds()\n",
    "\n",
    "hours = total_duration // 3600\n",
    "minutes = (total_duration % 3600) // 60\n",
    "# modulo returns the reaminder, it divdes by 3600 it returns the remainder, so after we divide by 3600 we have this seconds remaining and so on to find the minutes\n",
    "seconds = total_duration % 60\n",
    "# the remailder is converted to seconds\n",
    "\n",
    "print(str(hours) + ' hours ' + str(minutes) + ' min ' + str(seconds) + ' sec ')"
   ]
  },
  {
   "cell_type": "code",
   "execution_count": 9,
   "metadata": {},
   "outputs": [
    {
     "name": "stdout",
     "output_type": "stream",
     "text": [
      "Time localized to Zulu Time: 2024-09-11 19:40:44Z\n"
     ]
    },
    {
     "name": "stderr",
     "output_type": "stream",
     "text": [
      "/var/folders/bf/qs8c56fs6jxbk3rgbb9k01pm0000gn/T/ipykernel_46192/2404517539.py:7: DeprecationWarning: datetime.datetime.utcnow() is deprecated and scheduled for removal in a future version. Use timezone-aware objects to represent datetimes in UTC: datetime.datetime.now(datetime.UTC).\n",
      "  datetime = datetime.utcnow()\n"
     ]
    }
   ],
   "source": [
    "import pytz\n",
    "# pytz handles timezone information\n",
    "from datetime import datetime\n",
    "# datetime is used to work with dates and times in Python\n",
    "utc_zone = pytz.utc\n",
    "\n",
    "datetime = datetime.utcnow()\n",
    "\n",
    "try:\n",
    "    zulu_datetime = utc_zone.localize(datetime)\n",
    "    formatted_datetime = zulu_datetime.strftime('%Y-%m-%d %H:%M:%S') + 'Z'\n",
    "    # Formats the timezone object into year month day format\n",
    "    # the + z indicates Zulu time, or 0 on the timezone map\n",
    "    print(\"Time localized to Zulu Time:\", formatted_datetime)\n",
    "except Exception as e:\n",
    "    print(\"Timezone already established:\", e)\n"
   ]
  },
  {
   "cell_type": "code",
   "execution_count": 3,
   "metadata": {},
   "outputs": [
    {
     "name": "stdout",
     "output_type": "stream",
     "text": [
      "Requirement already satisfied: Timezonefinder in /opt/miniconda3/lib/python3.12/site-packages (6.5.2)\n",
      "Requirement already satisfied: cffi<2,>=1.15.1 in /opt/miniconda3/lib/python3.12/site-packages (from Timezonefinder) (1.16.0)\n",
      "Requirement already satisfied: h3<4,>=3.7.6 in /opt/miniconda3/lib/python3.12/site-packages (from Timezonefinder) (3.7.7)\n",
      "Requirement already satisfied: numpy<3,>=1.23 in /opt/miniconda3/lib/python3.12/site-packages (from Timezonefinder) (2.1.0)\n",
      "Requirement already satisfied: setuptools>=65.5 in /opt/miniconda3/lib/python3.12/site-packages (from Timezonefinder) (69.5.1)\n",
      "Requirement already satisfied: pycparser in /opt/miniconda3/lib/python3.12/site-packages (from cffi<2,>=1.15.1->Timezonefinder) (2.21)\n",
      "Note: you may need to restart the kernel to use updated packages.\n"
     ]
    }
   ],
   "source": [
    "pip install Timezonefinder\n"
   ]
  },
  {
   "cell_type": "code",
   "execution_count": 11,
   "metadata": {},
   "outputs": [
    {
     "name": "stdout",
     "output_type": "stream",
     "text": [
      "The current local time in America/Denver is 2024-09-11 13:41:33.756345-06:00\n"
     ]
    }
   ],
   "source": [
    "from timezonefinder import TimezoneFinder\n",
    "\n",
    "tf = TimezoneFinder()\n",
    "# Call the method that can find the timezone of a given location\n",
    "\n",
    "latitude = gpx_df.loc[0, 'lat']\n",
    "longitude = gpx_df.loc[0, 'lon']\n",
    "# Retrieve the lat and long from the dataframe\n",
    "# .loc accesses the data from gpx_df in the index 0\n",
    "\n",
    "timezone_str = tf.timezone_at(lat=latitude, lng=longitude) \n",
    "# Determines the timezone for the specific lat and lon in the dataframe\n",
    "\n",
    "if timezone_str:\n",
    "    timezone = pytz.timezone(timezone_str)\n",
    "    # Pytz converts the timezone into a string\n",
    "    current_time = datetime.now(timezone)\n",
    "    # Gets the current datetime for the timezone\n",
    "    print(f\"The current local time in {timezone_str} is {current_time}\")\n",
    "else:\n",
    "    print(\"Could not determine the timezone.\")\n"
   ]
  },
  {
   "cell_type": "markdown",
   "metadata": {},
   "source": [
    "5. To compute the total distance, first we would extract the coordinates, then calculate the distances between consecitive points, then we would add up all the distances between the coordinates to find the total distance traveled. This method doesn't account for changes in altitude. "
   ]
  }
 ],
 "metadata": {
  "kernelspec": {
   "display_name": "base",
   "language": "python",
   "name": "python3"
  },
  "language_info": {
   "codemirror_mode": {
    "name": "ipython",
    "version": 3
   },
   "file_extension": ".py",
   "mimetype": "text/x-python",
   "name": "python",
   "nbconvert_exporter": "python",
   "pygments_lexer": "ipython3",
   "version": "3.12.2"
  },
  "orig_nbformat": 4
 },
 "nbformat": 4,
 "nbformat_minor": 2
}
